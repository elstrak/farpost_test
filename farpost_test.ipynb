{
 "cells": [
  {
   "cell_type": "markdown",
   "id": "458d58c8-4d7a-48f3-84bd-08bc506b3eea",
   "metadata": {},
   "source": [
    "**Задача**: спроектировать дизайн A/B теста, позволяющего оценить эффект от изменения верстки объявлений в разделе Автозапчасти сайта Фарпост - \n",
    "вместо списка сделали плиточный вид."
   ]
  },
  {
   "cell_type": "markdown",
   "id": "c8eb9cd1-b296-4cdd-b58c-8977dace24e4",
   "metadata": {},
   "source": [
    "# Смоделируем следующий сценарий:\n",
    "Существует проблема маленькой конверсии раздела \"Автозапчасти\" на сайте Фарпост. Посетители не так часто кликают на объявления и выполняют целевое действие подтверждения заказа. Нынешняя конверсия составляет 15% и команда решила попробовать изменить отображение объявлений из списка в плиточный вид. Было бы отлично, если бы конверсия увеличилась на 3% и составила 18%, тогда новый дизайн можно будет считать успешным."
   ]
  },
  {
   "cell_type": "markdown",
   "id": "a38de48c-aed7-47fe-bbc0-5aa16d205ba4",
   "metadata": {},
   "source": [
    "# Детали дизайна нашего эксперимента следующие:\n",
    "\n",
    "**1. Бизнес проблема:** считаем, что конверсия из посещения раздела \"Автозапчасти\" в подтверждение заказа недостаточно высока.\n",
    "\n",
    "**2. Гипотеза:** предполагаем, что изменение верстки объявлений из списка в плиточный вид позволит достичь следующего эффекта:\n",
    "\n",
    "  **2.1 Больше людей заходят кликнуть на объявление, посмотреть подробнее и оформить заказ.**\n",
    "\n",
    "**3. Успех эксперимента заключается в:** увеличении конверсии из посещения раздела \"Автозапчасти\" в покупку."
   ]
  },
  {
   "cell_type": "markdown",
   "id": "6d134dc8-ac67-4d9d-b660-d58166a917b4",
   "metadata": {},
   "source": [
    "# Время проведения эксперимента\n",
    "\n",
    "Зачастую подобные эксперименты длятся 14 дней. Но необходимо понимать, что из-за четко определенных сроков проведения A/B тестирования может сложиться разница в конверсиях между двумя версиями сайта не по той причине, что сайт B лучше сайта A приводит к целевому действию, а по причине того, что пользователи, зашедшие в первый день в раздел \"Автозапчасти\", имели две недели на совершение покупки, тогда как пользователи, зашедшие в последний день - имели всего один день на покупку. Покупка автозапчастей является достаточно взвешенным решением, так что чтобы избежать влияния фактора \"скорость принятия решения\" на наши результаты, необходимо рассчитать **окно конверсии**. Для выбора окна конверсии возьмем датасет из открытых источников, содержащий время первого входа на сайт и время совершения покупки (в реальном A/B тестировании это был бы датасет, содержащий время входа на страницу раздела \"Автозапчасти\" и время подтверждения заказа)."
   ]
  },
  {
   "cell_type": "code",
   "execution_count": 21,
   "id": "bea37cf7-a902-4624-a056-1b6bed5bb7dd",
   "metadata": {},
   "outputs": [],
   "source": [
    "import pandas as pd\n",
    "import warnings\n",
    "import locale\n",
    "warnings.filterwarnings('ignore')"
   ]
  },
  {
   "cell_type": "code",
   "execution_count": 23,
   "id": "75ce8af9-cc35-4f22-8b09-1aea13b54621",
   "metadata": {},
   "outputs": [],
   "source": [
    "paytime_data = pd.read_csv('payment_window.csv', parse_dates = [2,3], index_col = 0)"
   ]
  },
  {
   "cell_type": "code",
   "execution_count": 24,
   "id": "ebfd7289-c8f4-48f1-9318-91d156cc04df",
   "metadata": {},
   "outputs": [
    {
     "data": {
      "text/html": [
       "<div>\n",
       "<style scoped>\n",
       "    .dataframe tbody tr th:only-of-type {\n",
       "        vertical-align: middle;\n",
       "    }\n",
       "\n",
       "    .dataframe tbody tr th {\n",
       "        vertical-align: top;\n",
       "    }\n",
       "\n",
       "    .dataframe thead th {\n",
       "        text-align: right;\n",
       "    }\n",
       "</style>\n",
       "<table border=\"1\" class=\"dataframe\">\n",
       "  <thead>\n",
       "    <tr style=\"text-align: right;\">\n",
       "      <th></th>\n",
       "      <th>user_id</th>\n",
       "      <th>main_page_viewed_at</th>\n",
       "      <th>order_completed_at</th>\n",
       "      <th>time_to_order</th>\n",
       "    </tr>\n",
       "  </thead>\n",
       "  <tbody>\n",
       "    <tr>\n",
       "      <th>0</th>\n",
       "      <td>959238</td>\n",
       "      <td>2020-11-20 23:55:02.759000+00:00</td>\n",
       "      <td>2020-11-30 02:22:32.759000+00:00</td>\n",
       "      <td>9.102431</td>\n",
       "    </tr>\n",
       "    <tr>\n",
       "      <th>1</th>\n",
       "      <td>337366</td>\n",
       "      <td>2020-12-05 23:41:42.244000+00:00</td>\n",
       "      <td>2020-12-12 22:25:52.244000+00:00</td>\n",
       "      <td>6.947338</td>\n",
       "    </tr>\n",
       "    <tr>\n",
       "      <th>2</th>\n",
       "      <td>259956</td>\n",
       "      <td>2020-11-20 23:33:53.269000+00:00</td>\n",
       "      <td>2020-11-25 13:08:03.269000+00:00</td>\n",
       "      <td>4.565394</td>\n",
       "    </tr>\n",
       "    <tr>\n",
       "      <th>3</th>\n",
       "      <td>534280</td>\n",
       "      <td>2020-11-28 23:44:56.556000+00:00</td>\n",
       "      <td>2020-12-05 10:14:06.556000+00:00</td>\n",
       "      <td>6.436921</td>\n",
       "    </tr>\n",
       "    <tr>\n",
       "      <th>4</th>\n",
       "      <td>795121</td>\n",
       "      <td>2020-11-18 23:59:56.236000+00:00</td>\n",
       "      <td>2020-11-27 02:38:16.236000+00:00</td>\n",
       "      <td>8.109954</td>\n",
       "    </tr>\n",
       "    <tr>\n",
       "      <th>...</th>\n",
       "      <td>...</td>\n",
       "      <td>...</td>\n",
       "      <td>...</td>\n",
       "      <td>...</td>\n",
       "    </tr>\n",
       "    <tr>\n",
       "      <th>9995</th>\n",
       "      <td>240447</td>\n",
       "      <td>2020-11-17 10:06:55.769000+00:00</td>\n",
       "      <td>2020-11-20 12:10:57.435667+00:00</td>\n",
       "      <td>3.086130</td>\n",
       "    </tr>\n",
       "    <tr>\n",
       "      <th>9996</th>\n",
       "      <td>862060</td>\n",
       "      <td>2020-11-17 12:06:56.864000+00:00</td>\n",
       "      <td>2020-11-20 14:24:35.197333+00:00</td>\n",
       "      <td>3.095583</td>\n",
       "    </tr>\n",
       "    <tr>\n",
       "      <th>9997</th>\n",
       "      <td>798767</td>\n",
       "      <td>2020-11-18 08:55:35.282000+00:00</td>\n",
       "      <td>2020-11-21 11:33:38.615333+00:00</td>\n",
       "      <td>3.109761</td>\n",
       "    </tr>\n",
       "    <tr>\n",
       "      <th>9998</th>\n",
       "      <td>967650</td>\n",
       "      <td>2020-11-17 08:13:14.589000+00:00</td>\n",
       "      <td>2020-11-20 12:33:22.922333+00:00</td>\n",
       "      <td>3.180652</td>\n",
       "    </tr>\n",
       "    <tr>\n",
       "      <th>9999</th>\n",
       "      <td>903796</td>\n",
       "      <td>2020-11-17 07:42:14.165000+00:00</td>\n",
       "      <td>2020-11-20 12:22:47.498333+00:00</td>\n",
       "      <td>3.194830</td>\n",
       "    </tr>\n",
       "  </tbody>\n",
       "</table>\n",
       "<p>10000 rows × 4 columns</p>\n",
       "</div>"
      ],
      "text/plain": [
       "      user_id               main_page_viewed_at  \\\n",
       "0      959238  2020-11-20 23:55:02.759000+00:00   \n",
       "1      337366  2020-12-05 23:41:42.244000+00:00   \n",
       "2      259956  2020-11-20 23:33:53.269000+00:00   \n",
       "3      534280  2020-11-28 23:44:56.556000+00:00   \n",
       "4      795121  2020-11-18 23:59:56.236000+00:00   \n",
       "...       ...                               ...   \n",
       "9995   240447  2020-11-17 10:06:55.769000+00:00   \n",
       "9996   862060  2020-11-17 12:06:56.864000+00:00   \n",
       "9997   798767  2020-11-18 08:55:35.282000+00:00   \n",
       "9998   967650  2020-11-17 08:13:14.589000+00:00   \n",
       "9999   903796  2020-11-17 07:42:14.165000+00:00   \n",
       "\n",
       "                    order_completed_at  time_to_order  \n",
       "0     2020-11-30 02:22:32.759000+00:00       9.102431  \n",
       "1     2020-12-12 22:25:52.244000+00:00       6.947338  \n",
       "2     2020-11-25 13:08:03.269000+00:00       4.565394  \n",
       "3     2020-12-05 10:14:06.556000+00:00       6.436921  \n",
       "4     2020-11-27 02:38:16.236000+00:00       8.109954  \n",
       "...                                ...            ...  \n",
       "9995  2020-11-20 12:10:57.435667+00:00       3.086130  \n",
       "9996  2020-11-20 14:24:35.197333+00:00       3.095583  \n",
       "9997  2020-11-21 11:33:38.615333+00:00       3.109761  \n",
       "9998  2020-11-20 12:33:22.922333+00:00       3.180652  \n",
       "9999  2020-11-20 12:22:47.498333+00:00       3.194830  \n",
       "\n",
       "[10000 rows x 4 columns]"
      ]
     },
     "execution_count": 24,
     "metadata": {},
     "output_type": "execute_result"
    }
   ],
   "source": [
    "paytime_data"
   ]
  },
  {
   "cell_type": "code",
   "execution_count": 25,
   "id": "624a683b-07d3-41d2-b160-798a6350e9c5",
   "metadata": {},
   "outputs": [
    {
     "data": {
      "text/plain": [
       "user_id                  int64\n",
       "main_page_viewed_at     object\n",
       "order_completed_at      object\n",
       "time_to_order          float64\n",
       "dtype: object"
      ]
     },
     "execution_count": 25,
     "metadata": {},
     "output_type": "execute_result"
    }
   ],
   "source": [
    "locale.setlocale(locale.LC_TIME, 'ru_RU.UTF-8')\n",
    "paytime_data.dtypes"
   ]
  },
  {
   "cell_type": "code",
   "execution_count": 26,
   "id": "2a2013f9-be02-430c-8980-35d118469583",
   "metadata": {},
   "outputs": [],
   "source": [
    "import numpy as np"
   ]
  },
  {
   "cell_type": "code",
   "execution_count": 28,
   "id": "1fa1d6c4-60ff-48ee-8ccd-417b4584b3c0",
   "metadata": {},
   "outputs": [
    {
     "data": {
      "text/plain": [
       "14.263310185185183"
      ]
     },
     "execution_count": 28,
     "metadata": {},
     "output_type": "execute_result"
    }
   ],
   "source": [
    "np.percentile(paytime_data['time_to_order'], 100)"
   ]
  },
  {
   "cell_type": "code",
   "execution_count": 30,
   "id": "46a7ccc7-9b69-4e64-8e7f-839b14142522",
   "metadata": {},
   "outputs": [
    {
     "data": {
      "text/plain": [
       "7.117476851851854"
      ]
     },
     "execution_count": 30,
     "metadata": {},
     "output_type": "execute_result"
    }
   ],
   "source": [
    "np.percentile(paytime_data['time_to_order'], 95) "
   ]
  },
  {
   "cell_type": "code",
   "execution_count": 31,
   "id": "b11c35f5-447f-4f82-a0a9-08024226a5ef",
   "metadata": {},
   "outputs": [
    {
     "data": {
      "text/plain": [
       "2.864949845679016"
      ]
     },
     "execution_count": 31,
     "metadata": {},
     "output_type": "execute_result"
    }
   ],
   "source": [
    "np.percentile(paytime_data['time_to_order'], 90)"
   ]
  },
  {
   "cell_type": "markdown",
   "id": "abbdbc8d-a2cd-42e1-9611-3b1559bfc78a",
   "metadata": {},
   "source": [
    "14 и 7 дней - слишком долгие окна, чтобы предпринимать решения о покупке в разделе \"Автозапчасти\", хоть оно и должно быть взвешенным. Будет лучше, если мы потеряем некоторое количество строк данных, но сократим период ожидания покупки. Для этого лучше всего подойдет 90-ый персентиль, он равен трем дням. Таким образом мы не потеряем много данных, но сохраним скорость принятия решения и время проведения эксперимента получится весьма корректным."
   ]
  },
  {
   "cell_type": "code",
   "execution_count": 35,
   "id": "3fc1fb10-1eb1-4ef1-b929-813ce08b6669",
   "metadata": {},
   "outputs": [
    {
     "data": {
      "text/plain": [
       "2.9"
      ]
     },
     "execution_count": 35,
     "metadata": {},
     "output_type": "execute_result"
    }
   ],
   "source": [
    "perc_90 = round(np.percentile(paytime_data['time_to_order'], 90), 1)\n",
    "perc_90"
   ]
  },
  {
   "cell_type": "markdown",
   "id": "63b94d75-5c90-4c67-a866-00340b0fdd90",
   "metadata": {},
   "source": [
    "## Построим гистограмму распределения времени между первым посещением раздела и подтверждением заказа"
   ]
  },
  {
   "cell_type": "code",
   "execution_count": 39,
   "id": "b404f918-d6cd-4255-ab4e-c966f831a506",
   "metadata": {},
   "outputs": [],
   "source": [
    "import seaborn as sns\n",
    "import matplotlib.pyplot as plt"
   ]
  },
  {
   "cell_type": "code",
   "execution_count": 40,
   "id": "7757b44a-e457-4cf8-ac2b-03d7dfa18d3a",
   "metadata": {},
   "outputs": [
    {
     "data": {
      "image/png": "[encoded data removed]",
      "text/plain": [
       "<Figure size 1600x900 with 1 Axes>"
      ]
     },
     "metadata": {},
     "output_type": "display_data"
    }
   ],
   "source": [
    "plt.figure(figsize=(16,9))\n",
    "sns.distplot(paytime_data['time_to_order'])\n",
    "plt.vlines(perc_90, ymin = 0, ymax = 0.7, linestyles = 'dashed', label = f'90-ый персентиль - {perc_90} дней')\n",
    "plt.title('Распределение времени между первым посещением раздела \"Автозапчасти\" и подтверждением заказа')\n",
    "plt.xlabel('Число дней')\n",
    "plt.ylabel('Число пользователей')\n",
    "plt.legend()\n",
    "plt.show()"
   ]
  },
  {
   "cell_type": "markdown",
   "id": "43cc4eeb-b08b-465b-97a9-8446baee3753",
   "metadata": {},
   "source": [
    "Следующая гистограмма дает понять, что большинство пользователей делает свой заказ в первые 3 дня с момента захода на сайт. Значит, для каждого пользователя мы посмотрим дату первого посещения раздела \"Автозапчасти\" и дату подтверждения заказа. Если пользователь сделал покупку в течение 3 дней, то мы засчитаем эту покупку для подсчета конверсии во время нашего A/B теста. Если пользователь сделал покупку позже, то мы не будем засчитывать эту конверсию.\n",
    "Таким образом, время проведения эксперимента будет не **14 дней**, как планировалось изначально, а **17 дней** - мы посчитали оптимальное окно конверсии для раздела \"Автозапчасти\", равное трем дням."
   ]
  },
  {
   "cell_type": "markdown",
   "id": "47061164-2343-4769-9660-205c614f024e",
   "metadata": {},
   "source": [
    "# Дизайн A/B теста\n",
    "\n",
    "Представим, что мы применили вычисления в предыдущем шаге и теперь знаем, каким должно быть время проведения нашего A/B тестирования с учетом окна конверсии. Перейдем к дизайну A/B теста.\n",
    "\n",
    "Так как мы не знаем, будет ли плиточный дизайн эффективнее нынешнего, стоит воспользоваться двусторонним тестом (two-tailed test) для проверки.\n",
    "Пусть p - конверсия нового дизайна, p0 - конверсия старого дизайна. \n",
    "Тогда выдвинем для двустороннего теста следующие гипотезы:\n",
    "H0 (нулевая гипотеза): p = p0\n",
    "Ha: p != p0\n",
    "\n"
   ]
  },
  {
   "cell_type": "markdown",
   "id": "f1cc7d04-9163-47d2-aacf-71a8663efc25",
   "metadata": {},
   "source": [
    "Для нашего теста нам необходимы две группы:\n",
    "\n",
    "группа control - ей мы будем показывать старый дизайн в виде списка\n",
    "\n",
    "группа treatment - ей мы будем показывать плиточный дизайн\n",
    "\n",
    "Нам необходимо иметь две тестовые группы, проходящие одновременно, потому что нам нужно контролировать различные переменные факторы, которые могут повлиять на тестирование: сезонность покупок, появление еще одного конкурента-аггрегатора на дальневосточном рынке и т.д. Все это может негативно повлиять на достоверность результатов тестирования.\n",
    "Для измерения эффективности нашего тестирования, как мы уже знаем, мы будем использовать **конверсию**. \n",
    "Распределим пользователей так:\n",
    "\n",
    "**0** - пользователь не совершил покупку во время своего посещения сайта.\n",
    "\n",
    "**1** - пользователь совершил покупку во время посещения.\n",
    "\n",
    "Стоит помнить, что при реальном тестировании мы бы включали в группу **1** только тех пользователей, кто совершил покупку согласно нашему окну конверсии, что мы расчитали в предыдущем шаге."
   ]
  },
  {
   "cell_type": "markdown",
   "id": "b09ff106-043d-4ebd-93ae-6b4c0c590c3b",
   "metadata": {},
   "source": [
    "## Размер выборки\n",
    "\n",
    "Чем больше пользовательских сессий мы включим в наш анализ, тем точнее мы рассчитаем коэффиценты конверсии. Чем больше размер выборки, тем выше шанс, что мы сможем выявить разницу между двумя тестовыми группами.\n",
    "\n",
    "Но с другой стороны чем больше выборка, тем дороже и сложнее будет тестирование, поэтому необходимо посчитать наиболее эффективную выборку для последующего анализа.\n",
    "\n",
    "Для подсчета размера выборки необходимо использовать мощность анализа, которая основывается на:\n",
    "\n",
    "**Мощность теста** - вероятность найти разницу между двумя тестовыми группами, когда она действительно существует. Обычно устанавливается как 0.8.\n",
    "\n",
    "**Alpha-value** - некий устанавливаемый порог. Если значение p-value меньше alpha, то мы отвергаем нашу нулевую гипотезу, а значит показатели нового дизайна отличаются от показателей старого. Поставим как 0.05.\n",
    "\n",
    "**Эффективность** - разница между конверсиями.\n",
    "\n",
    "Помним, что команда бы хотела увеличить конверсию с 15% до 18%."
   ]
  },
  {
   "cell_type": "code",
   "execution_count": 48,
   "id": "c5c693ef-573b-466f-8122-bec036e681b1",
   "metadata": {},
   "outputs": [
    {
     "name": "stdout",
     "output_type": "stream",
     "text": [
      "2399\n"
     ]
    }
   ],
   "source": [
    "effect_size = sms.proportion_effectsize(0.15, 0.18)   # подсчитываем  эффективный размер на основании наших ожиданий\n",
    "\n",
    "required_n = sms.NormalIndPower().solve_power( # считаем выборку\n",
    "    effect_size, \n",
    "    power=0.8, \n",
    "    alpha=0.05, \n",
    "    ratio=1\n",
    "    )                                                 \n",
    "\n",
    "required_n = ceil(required_n)       # округляем                                           \n",
    "\n",
    "print(required_n)"
   ]
  },
  {
   "cell_type": "markdown",
   "id": "8615bc80-f70a-4873-8f01-1cfc8855a58e",
   "metadata": {},
   "source": [
    "Значит нам необходимо как минимум 2399 наблюдений для каждой группы. Таким образом мы рассчитали объем трафика, нужный для эффективного анализа нашего эксперимента."
   ]
  },
  {
   "cell_type": "markdown",
   "id": "31c1d5d8-808f-4082-93da-faa5b0f0bb5e",
   "metadata": {},
   "source": [
    "# Сбор данных\n",
    "\n",
    "В реальном тестировании мы бы получили настоящий датасет с поведением пользователей в разделе Автозапчасти на Фарпосте, но мы будемо использовать найденный в интернете датасет.\n",
    "\n"
   ]
  },
  {
   "cell_type": "code",
   "execution_count": 51,
   "id": "0853e206-00a4-4112-a7c2-32fca3f326ae",
   "metadata": {},
   "outputs": [
    {
     "data": {
      "text/html": [
       "<div>\n",
       "<style scoped>\n",
       "    .dataframe tbody tr th:only-of-type {\n",
       "        vertical-align: middle;\n",
       "    }\n",
       "\n",
       "    .dataframe tbody tr th {\n",
       "        vertical-align: top;\n",
       "    }\n",
       "\n",
       "    .dataframe thead th {\n",
       "        text-align: right;\n",
       "    }\n",
       "</style>\n",
       "<table border=\"1\" class=\"dataframe\">\n",
       "  <thead>\n",
       "    <tr style=\"text-align: right;\">\n",
       "      <th></th>\n",
       "      <th>user_id</th>\n",
       "      <th>timestamp</th>\n",
       "      <th>group</th>\n",
       "      <th>landing_page</th>\n",
       "      <th>converted</th>\n",
       "    </tr>\n",
       "  </thead>\n",
       "  <tbody>\n",
       "    <tr>\n",
       "      <th>0</th>\n",
       "      <td>851104</td>\n",
       "      <td>2017-01-21 22:11:48.556739</td>\n",
       "      <td>control</td>\n",
       "      <td>old_page</td>\n",
       "      <td>0</td>\n",
       "    </tr>\n",
       "    <tr>\n",
       "      <th>1</th>\n",
       "      <td>804228</td>\n",
       "      <td>2017-01-12 08:01:45.159739</td>\n",
       "      <td>control</td>\n",
       "      <td>old_page</td>\n",
       "      <td>0</td>\n",
       "    </tr>\n",
       "    <tr>\n",
       "      <th>2</th>\n",
       "      <td>661590</td>\n",
       "      <td>2017-01-11 16:55:06.154213</td>\n",
       "      <td>treatment</td>\n",
       "      <td>new_page</td>\n",
       "      <td>0</td>\n",
       "    </tr>\n",
       "    <tr>\n",
       "      <th>3</th>\n",
       "      <td>853541</td>\n",
       "      <td>2017-01-08 18:28:03.143765</td>\n",
       "      <td>treatment</td>\n",
       "      <td>new_page</td>\n",
       "      <td>0</td>\n",
       "    </tr>\n",
       "    <tr>\n",
       "      <th>4</th>\n",
       "      <td>864975</td>\n",
       "      <td>2017-01-21 01:52:26.210827</td>\n",
       "      <td>control</td>\n",
       "      <td>old_page</td>\n",
       "      <td>1</td>\n",
       "    </tr>\n",
       "  </tbody>\n",
       "</table>\n",
       "</div>"
      ],
      "text/plain": [
       "   user_id                   timestamp      group landing_page  converted\n",
       "0   851104  2017-01-21 22:11:48.556739    control     old_page          0\n",
       "1   804228  2017-01-12 08:01:45.159739    control     old_page          0\n",
       "2   661590  2017-01-11 16:55:06.154213  treatment     new_page          0\n",
       "3   853541  2017-01-08 18:28:03.143765  treatment     new_page          0\n",
       "4   864975  2017-01-21 01:52:26.210827    control     old_page          1"
      ]
     },
     "execution_count": 51,
     "metadata": {},
     "output_type": "execute_result"
    }
   ],
   "source": [
    "df = pd.read_csv('ab_data.csv')\n",
    "df.head()"
   ]
  },
  {
   "cell_type": "code",
   "execution_count": 52,
   "id": "4a2751d6-e2bf-40ce-9a14-6cd2c81ae709",
   "metadata": {},
   "outputs": [
    {
     "name": "stdout",
     "output_type": "stream",
     "text": [
      "<class 'pandas.core.frame.DataFrame'>\n",
      "RangeIndex: 294478 entries, 0 to 294477\n",
      "Data columns (total 5 columns):\n",
      " #   Column        Non-Null Count   Dtype \n",
      "---  ------        --------------   ----- \n",
      " 0   user_id       294478 non-null  int64 \n",
      " 1   timestamp     294478 non-null  object\n",
      " 2   group         294478 non-null  object\n",
      " 3   landing_page  294478 non-null  object\n",
      " 4   converted     294478 non-null  int64 \n",
      "dtypes: int64(2), object(3)\n",
      "memory usage: 11.2+ MB\n"
     ]
    }
   ],
   "source": [
    "df.info()"
   ]
  },
  {
   "cell_type": "code",
   "execution_count": 53,
   "id": "53191693-391b-417c-9714-887de75c557b",
   "metadata": {},
   "outputs": [
    {
     "data": {
      "text/html": [
       "<div>\n",
       "<style scoped>\n",
       "    .dataframe tbody tr th:only-of-type {\n",
       "        vertical-align: middle;\n",
       "    }\n",
       "\n",
       "    .dataframe tbody tr th {\n",
       "        vertical-align: top;\n",
       "    }\n",
       "\n",
       "    .dataframe thead th {\n",
       "        text-align: right;\n",
       "    }\n",
       "</style>\n",
       "<table border=\"1\" class=\"dataframe\">\n",
       "  <thead>\n",
       "    <tr style=\"text-align: right;\">\n",
       "      <th>landing_page</th>\n",
       "      <th>new_page</th>\n",
       "      <th>old_page</th>\n",
       "    </tr>\n",
       "    <tr>\n",
       "      <th>group</th>\n",
       "      <th></th>\n",
       "      <th></th>\n",
       "    </tr>\n",
       "  </thead>\n",
       "  <tbody>\n",
       "    <tr>\n",
       "      <th>control</th>\n",
       "      <td>1928</td>\n",
       "      <td>145274</td>\n",
       "    </tr>\n",
       "    <tr>\n",
       "      <th>treatment</th>\n",
       "      <td>145311</td>\n",
       "      <td>1965</td>\n",
       "    </tr>\n",
       "  </tbody>\n",
       "</table>\n",
       "</div>"
      ],
      "text/plain": [
       "landing_page  new_page  old_page\n",
       "group                           \n",
       "control           1928    145274\n",
       "treatment       145311      1965"
      ]
     },
     "execution_count": 53,
     "metadata": {},
     "output_type": "execute_result"
    }
   ],
   "source": [
    "pd.crosstab(df['group'], df['landing_page'])"
   ]
  },
  {
   "cell_type": "markdown",
   "id": "87b26abb-d67a-408e-8438-01b9f0c99978",
   "metadata": {},
   "source": [
    "Необходимо отфильтровать лишние случаи"
   ]
  },
  {
   "cell_type": "code",
   "execution_count": 54,
   "id": "217b3075-953b-4c77-8b05-4e662c8c1bcf",
   "metadata": {},
   "outputs": [],
   "source": [
    "df = df.query('(group == \"control\" & landing_page == \"old_page\") | (group == \"treatment\" & landing_page == \"new_page\")')"
   ]
  },
  {
   "cell_type": "code",
   "execution_count": 55,
   "id": "9f1af476-5482-408d-be78-dd6018169b98",
   "metadata": {},
   "outputs": [
    {
     "data": {
      "text/html": [
       "<div>\n",
       "<style scoped>\n",
       "    .dataframe tbody tr th:only-of-type {\n",
       "        vertical-align: middle;\n",
       "    }\n",
       "\n",
       "    .dataframe tbody tr th {\n",
       "        vertical-align: top;\n",
       "    }\n",
       "\n",
       "    .dataframe thead th {\n",
       "        text-align: right;\n",
       "    }\n",
       "</style>\n",
       "<table border=\"1\" class=\"dataframe\">\n",
       "  <thead>\n",
       "    <tr style=\"text-align: right;\">\n",
       "      <th>landing_page</th>\n",
       "      <th>new_page</th>\n",
       "      <th>old_page</th>\n",
       "    </tr>\n",
       "    <tr>\n",
       "      <th>group</th>\n",
       "      <th></th>\n",
       "      <th></th>\n",
       "    </tr>\n",
       "  </thead>\n",
       "  <tbody>\n",
       "    <tr>\n",
       "      <th>control</th>\n",
       "      <td>0</td>\n",
       "      <td>145274</td>\n",
       "    </tr>\n",
       "    <tr>\n",
       "      <th>treatment</th>\n",
       "      <td>145311</td>\n",
       "      <td>0</td>\n",
       "    </tr>\n",
       "  </tbody>\n",
       "</table>\n",
       "</div>"
      ],
      "text/plain": [
       "landing_page  new_page  old_page\n",
       "group                           \n",
       "control              0    145274\n",
       "treatment       145311         0"
      ]
     },
     "execution_count": 55,
     "metadata": {},
     "output_type": "execute_result"
    }
   ],
   "source": [
    "pd.crosstab(df['group'], df['landing_page'])"
   ]
  },
  {
   "cell_type": "markdown",
   "id": "20e05597-c563-4d67-b749-b5e42999bd2c",
   "metadata": {},
   "source": [
    "Так-то лучше"
   ]
  },
  {
   "cell_type": "code",
   "execution_count": 56,
   "id": "36798d80-80c0-49d6-9f65-e172f742c0ec",
   "metadata": {},
   "outputs": [
    {
     "name": "stdout",
     "output_type": "stream",
     "text": [
      "Существует 1 человек появившихся несколько раз в датасете\n"
     ]
    }
   ],
   "source": [
    "session_counts = df['user_id'].value_counts(ascending=False)\n",
    "multi_users = session_counts[session_counts > 1].count()\n",
    "print(f'Существует {multi_users} человек появившихся несколько раз в датасете')"
   ]
  },
  {
   "cell_type": "markdown",
   "id": "3a6bb39a-2b98-4cb6-8910-485c33222435",
   "metadata": {},
   "source": [
    "Удалим из датасета лишние данные"
   ]
  },
  {
   "cell_type": "code",
   "execution_count": 57,
   "id": "4af950a9-99f3-4bb8-87f9-5df154c470ea",
   "metadata": {},
   "outputs": [
    {
     "name": "stdout",
     "output_type": "stream",
     "text": [
      "Обновленный датасет имеет 290583 вхождений\n"
     ]
    }
   ],
   "source": [
    "users_to_drop = session_counts[session_counts > 1].index\n",
    "\n",
    "df = df[~df['user_id'].isin(users_to_drop)]\n",
    "print(f'Обновленный датасет имеет {df.shape[0]} вхождений')"
   ]
  },
  {
   "cell_type": "markdown",
   "id": "d88c61ca-f42b-4397-9a43-90c8439da18b",
   "metadata": {},
   "source": [
    "Теперь выберем для каждой группы 2399 вхождений из нашего датасета случайным образом."
   ]
  },
  {
   "cell_type": "code",
   "execution_count": 58,
   "id": "dda07484-0386-42aa-a3dd-ebc1e1190c91",
   "metadata": {},
   "outputs": [],
   "source": [
    "control_sample = df[df['group'] == 'control'].sample(n=required_n, random_state=23)\n",
    "treatment_sample = df[df['group'] == 'treatment'].sample(n=required_n, random_state=23)\n",
    "\n",
    "ab_test = pd.concat([control_sample, treatment_sample], axis=0)\n",
    "ab_test.reset_index(drop=True, inplace=True)"
   ]
  },
  {
   "cell_type": "code",
   "execution_count": 59,
   "id": "1f195480-c2ca-4ffc-b3b3-350ca093f22f",
   "metadata": {},
   "outputs": [
    {
     "data": {
      "text/html": [
       "<div>\n",
       "<style scoped>\n",
       "    .dataframe tbody tr th:only-of-type {\n",
       "        vertical-align: middle;\n",
       "    }\n",
       "\n",
       "    .dataframe tbody tr th {\n",
       "        vertical-align: top;\n",
       "    }\n",
       "\n",
       "    .dataframe thead th {\n",
       "        text-align: right;\n",
       "    }\n",
       "</style>\n",
       "<table border=\"1\" class=\"dataframe\">\n",
       "  <thead>\n",
       "    <tr style=\"text-align: right;\">\n",
       "      <th></th>\n",
       "      <th>user_id</th>\n",
       "      <th>timestamp</th>\n",
       "      <th>group</th>\n",
       "      <th>landing_page</th>\n",
       "      <th>converted</th>\n",
       "    </tr>\n",
       "  </thead>\n",
       "  <tbody>\n",
       "    <tr>\n",
       "      <th>0</th>\n",
       "      <td>887338</td>\n",
       "      <td>2017-01-12 06:53:21.417894</td>\n",
       "      <td>control</td>\n",
       "      <td>old_page</td>\n",
       "      <td>1</td>\n",
       "    </tr>\n",
       "    <tr>\n",
       "      <th>1</th>\n",
       "      <td>704149</td>\n",
       "      <td>2017-01-06 08:58:33.492141</td>\n",
       "      <td>control</td>\n",
       "      <td>old_page</td>\n",
       "      <td>0</td>\n",
       "    </tr>\n",
       "    <tr>\n",
       "      <th>2</th>\n",
       "      <td>700197</td>\n",
       "      <td>2017-01-16 06:42:26.997856</td>\n",
       "      <td>control</td>\n",
       "      <td>old_page</td>\n",
       "      <td>0</td>\n",
       "    </tr>\n",
       "    <tr>\n",
       "      <th>3</th>\n",
       "      <td>756475</td>\n",
       "      <td>2017-01-07 01:58:03.432851</td>\n",
       "      <td>control</td>\n",
       "      <td>old_page</td>\n",
       "      <td>0</td>\n",
       "    </tr>\n",
       "    <tr>\n",
       "      <th>4</th>\n",
       "      <td>648976</td>\n",
       "      <td>2017-01-05 10:23:11.573391</td>\n",
       "      <td>control</td>\n",
       "      <td>old_page</td>\n",
       "      <td>0</td>\n",
       "    </tr>\n",
       "    <tr>\n",
       "      <th>...</th>\n",
       "      <td>...</td>\n",
       "      <td>...</td>\n",
       "      <td>...</td>\n",
       "      <td>...</td>\n",
       "      <td>...</td>\n",
       "    </tr>\n",
       "    <tr>\n",
       "      <th>4793</th>\n",
       "      <td>742383</td>\n",
       "      <td>2017-01-09 06:50:27.430165</td>\n",
       "      <td>treatment</td>\n",
       "      <td>new_page</td>\n",
       "      <td>0</td>\n",
       "    </tr>\n",
       "    <tr>\n",
       "      <th>4794</th>\n",
       "      <td>916561</td>\n",
       "      <td>2017-01-22 15:21:08.801980</td>\n",
       "      <td>treatment</td>\n",
       "      <td>new_page</td>\n",
       "      <td>0</td>\n",
       "    </tr>\n",
       "    <tr>\n",
       "      <th>4795</th>\n",
       "      <td>842629</td>\n",
       "      <td>2017-01-10 02:53:37.513038</td>\n",
       "      <td>treatment</td>\n",
       "      <td>new_page</td>\n",
       "      <td>0</td>\n",
       "    </tr>\n",
       "    <tr>\n",
       "      <th>4796</th>\n",
       "      <td>633278</td>\n",
       "      <td>2017-01-09 19:00:24.573172</td>\n",
       "      <td>treatment</td>\n",
       "      <td>new_page</td>\n",
       "      <td>0</td>\n",
       "    </tr>\n",
       "    <tr>\n",
       "      <th>4797</th>\n",
       "      <td>866731</td>\n",
       "      <td>2017-01-07 05:50:44.907764</td>\n",
       "      <td>treatment</td>\n",
       "      <td>new_page</td>\n",
       "      <td>0</td>\n",
       "    </tr>\n",
       "  </tbody>\n",
       "</table>\n",
       "<p>4798 rows × 5 columns</p>\n",
       "</div>"
      ],
      "text/plain": [
       "      user_id                   timestamp      group landing_page  converted\n",
       "0      887338  2017-01-12 06:53:21.417894    control     old_page          1\n",
       "1      704149  2017-01-06 08:58:33.492141    control     old_page          0\n",
       "2      700197  2017-01-16 06:42:26.997856    control     old_page          0\n",
       "3      756475  2017-01-07 01:58:03.432851    control     old_page          0\n",
       "4      648976  2017-01-05 10:23:11.573391    control     old_page          0\n",
       "...       ...                         ...        ...          ...        ...\n",
       "4793   742383  2017-01-09 06:50:27.430165  treatment     new_page          0\n",
       "4794   916561  2017-01-22 15:21:08.801980  treatment     new_page          0\n",
       "4795   842629  2017-01-10 02:53:37.513038  treatment     new_page          0\n",
       "4796   633278  2017-01-09 19:00:24.573172  treatment     new_page          0\n",
       "4797   866731  2017-01-07 05:50:44.907764  treatment     new_page          0\n",
       "\n",
       "[4798 rows x 5 columns]"
      ]
     },
     "execution_count": 59,
     "metadata": {},
     "output_type": "execute_result"
    }
   ],
   "source": [
    "ab_test"
   ]
  },
  {
   "cell_type": "code",
   "execution_count": 60,
   "id": "fe4614a1-f1e9-43d4-b633-4e2f0d6b07dc",
   "metadata": {},
   "outputs": [
    {
     "name": "stdout",
     "output_type": "stream",
     "text": [
      "<class 'pandas.core.frame.DataFrame'>\n",
      "RangeIndex: 4798 entries, 0 to 4797\n",
      "Data columns (total 5 columns):\n",
      " #   Column        Non-Null Count  Dtype \n",
      "---  ------        --------------  ----- \n",
      " 0   user_id       4798 non-null   int64 \n",
      " 1   timestamp     4798 non-null   object\n",
      " 2   group         4798 non-null   object\n",
      " 3   landing_page  4798 non-null   object\n",
      " 4   converted     4798 non-null   int64 \n",
      "dtypes: int64(2), object(3)\n",
      "memory usage: 187.6+ KB\n"
     ]
    }
   ],
   "source": [
    "ab_test.info()"
   ]
  },
  {
   "cell_type": "code",
   "execution_count": 61,
   "id": "1928ed57-11a7-42ee-8820-c396e70aecd1",
   "metadata": {},
   "outputs": [
    {
     "data": {
      "text/plain": [
       "group\n",
       "control      2399\n",
       "treatment    2399\n",
       "Name: count, dtype: int64"
      ]
     },
     "execution_count": 61,
     "metadata": {},
     "output_type": "execute_result"
    }
   ],
   "source": [
    "ab_test['group'].value_counts()"
   ]
  },
  {
   "cell_type": "markdown",
   "id": "8c246887-8f8c-4da4-96e1-ba4e50c64568",
   "metadata": {},
   "source": [
    "Теперь можно проанализировать результаты, так как тестовые группы такие, как мы и хотели"
   ]
  },
  {
   "cell_type": "markdown",
   "id": "cf1579d9-4c17-46ad-8c22-af78e630d2a6",
   "metadata": {},
   "source": [
    "## Визуализируем результаты"
   ]
  },
  {
   "cell_type": "markdown",
   "id": "94be4aea-2917-4412-87aa-1814511357de",
   "metadata": {},
   "source": [
    "Посчитаем базовую конверсию"
   ]
  },
  {
   "cell_type": "code",
   "execution_count": 62,
   "id": "86e51767-2a1c-49a3-9549-4b2bd951357e",
   "metadata": {},
   "outputs": [
    {
     "data": {
      "text/html": [
       "<style type=\"text/css\">\n",
       "</style>\n",
       "<table id=\"T_ce247\">\n",
       "  <thead>\n",
       "    <tr>\n",
       "      <th class=\"blank level0\" >&nbsp;</th>\n",
       "      <th id=\"T_ce247_level0_col0\" class=\"col_heading level0 col0\" >conversion_rate</th>\n",
       "      <th id=\"T_ce247_level0_col1\" class=\"col_heading level0 col1\" >std_deviation</th>\n",
       "      <th id=\"T_ce247_level0_col2\" class=\"col_heading level0 col2\" >std_error</th>\n",
       "    </tr>\n",
       "    <tr>\n",
       "      <th class=\"index_name level0\" >group</th>\n",
       "      <th class=\"blank col0\" >&nbsp;</th>\n",
       "      <th class=\"blank col1\" >&nbsp;</th>\n",
       "      <th class=\"blank col2\" >&nbsp;</th>\n",
       "    </tr>\n",
       "  </thead>\n",
       "  <tbody>\n",
       "    <tr>\n",
       "      <th id=\"T_ce247_level0_row0\" class=\"row_heading level0 row0\" >control</th>\n",
       "      <td id=\"T_ce247_row0_col0\" class=\"data row0 col0\" >0.123</td>\n",
       "      <td id=\"T_ce247_row0_col1\" class=\"data row0 col1\" >0.328</td>\n",
       "      <td id=\"T_ce247_row0_col2\" class=\"data row0 col2\" >0.007</td>\n",
       "    </tr>\n",
       "    <tr>\n",
       "      <th id=\"T_ce247_level0_row1\" class=\"row_heading level0 row1\" >treatment</th>\n",
       "      <td id=\"T_ce247_row1_col0\" class=\"data row1 col0\" >0.131</td>\n",
       "      <td id=\"T_ce247_row1_col1\" class=\"data row1 col1\" >0.338</td>\n",
       "      <td id=\"T_ce247_row1_col2\" class=\"data row1 col2\" >0.007</td>\n",
       "    </tr>\n",
       "  </tbody>\n",
       "</table>\n"
      ],
      "text/plain": [
       "<pandas.io.formats.style.Styler at 0x14c72d09450>"
      ]
     },
     "execution_count": 62,
     "metadata": {},
     "output_type": "execute_result"
    }
   ],
   "source": [
    "conversion_rates = ab_test.groupby('group')['converted']\n",
    "\n",
    "std_p = lambda x: np.std(x, ddof=0)              # отклонение\n",
    "se_p = lambda x: stats.sem(x, ddof=0)            # ошибка\n",
    "\n",
    "conversion_rates = conversion_rates.agg([np.mean, std_p, se_p])\n",
    "conversion_rates.columns = ['conversion_rate', 'std_deviation', 'std_error']\n",
    "\n",
    "\n",
    "conversion_rates.style.format('{:.3f}')"
   ]
  },
  {
   "cell_type": "markdown",
   "id": "c9955421-3d44-4486-b0af-e846bfe85edb",
   "metadata": {},
   "source": [
    "Выглядит так, что наш новый дизайн повел себя лучше, чем старый. Визуализируем данные."
   ]
  },
  {
   "cell_type": "code",
   "execution_count": 63,
   "id": "af12ca82-d684-4f86-8d96-d200c052999b",
   "metadata": {},
   "outputs": [
    {
     "data": {
      "image/png": "[encoded data removed]",
      "text/plain": [
       "<Figure size 800x600 with 1 Axes>"
      ]
     },
     "metadata": {},
     "output_type": "display_data"
    }
   ],
   "source": [
    "plt.figure(figsize=(8,6))\n",
    "\n",
    "sns.barplot(x=ab_test['group'], y=ab_test['converted'], ci=False)\n",
    "\n",
    "plt.ylim(0, 0.17)\n",
    "plt.title('Коэффицент конверсии по группам', pad=20)\n",
    "plt.xlabel('Тестовая группа', labelpad=15)\n",
    "plt.ylabel('Конверсия', labelpad=15);"
   ]
  },
  {
   "cell_type": "markdown",
   "id": "7929f569-c70e-4d2f-abdf-64a1684b9661",
   "metadata": {},
   "source": [
    "Мы можем наблюдать, что результаты нового дизайна лучше, чем старого, но так же известно, что конверсия оригинального дизайна в нашей выборке ниже, чем его настоящая конверсия (12.3 < 15). Это происходит потому, что мы проводим анализ определенной выборки, а не всего датасета пользовательских сессий нашего раздела \"Автозапчасти\"."
   ]
  },
  {
   "cell_type": "markdown",
   "id": "96eef365-9724-49c6-b3b2-1c36e0a27f0b",
   "metadata": {},
   "source": [
    "## Проверим нашу гипотезу "
   ]
  },
  {
   "cell_type": "code",
   "execution_count": 64,
   "id": "dbc91baa-82f8-4c44-bda9-0a31206f2169",
   "metadata": {},
   "outputs": [],
   "source": [
    "from statsmodels.stats.proportion import proportions_ztest, proportion_confint"
   ]
  },
  {
   "cell_type": "code",
   "execution_count": 65,
   "id": "e81410c5-14c3-401d-8de6-8021c0c87b25",
   "metadata": {},
   "outputs": [],
   "source": [
    "control_results = ab_test[ab_test['group'] == 'control']['converted']\n",
    "treatment_results = ab_test[ab_test['group'] == 'treatment']['converted']"
   ]
  },
  {
   "cell_type": "code",
   "execution_count": 67,
   "id": "37ef4339-7713-47a8-a895-e2618a29aca5",
   "metadata": {},
   "outputs": [
    {
     "name": "stdout",
     "output_type": "stream",
     "text": [
      "z statistic: -0.91\n",
      "p-value: 0.362\n",
      "Доверительный интервал 95% для control: [0.109, 0.136]\n",
      "Доверительный интервал 95% для treatment: [0.118, 0.145]\n"
     ]
    }
   ],
   "source": [
    "n_con = control_results.count()\n",
    "n_treat = treatment_results.count()\n",
    "successes = [control_results.sum(), treatment_results.sum()]\n",
    "nobs = [n_con, n_treat]\n",
    "\n",
    "z_stat, pval = proportions_ztest(successes, nobs=nobs)\n",
    "(lower_con, lower_treat), (upper_con, upper_treat) = proportion_confint(successes, nobs=nobs, alpha=0.05)\n",
    "\n",
    "print(f'z statistic: {z_stat:.2f}')\n",
    "print(f'p-value: {pval:.3f}')\n",
    "print(f'Доверительный интервал 95% для control: [{lower_con:.3f}, {upper_con:.3f}]')\n",
    "print(f'Доверительный интервал 95% для treatment: [{lower_treat:.3f}, {upper_treat:.3f}]')"
   ]
  },
  {
   "cell_type": "markdown",
   "id": "cb499be6-d077-4141-886a-116a23ebd64d",
   "metadata": {},
   "source": [
    "## Итог\n",
    "\n",
    "Раз уж наше значение p-value гораздо больше, чем значение alpha, то мы не можем отвергнуть нашу нулевую гипотезу, что означает, что наш новый дизайн не показал других результатов по сравнению со старым дизайном-списком.\n",
    "\n",
    "Также, взглянув на результаты нашей группы нового дизайна, мы можем заметить, что она включает в себя базовое значение конверсии, но не включает в себя новое увеличенное значение (18%), к чему мы стремились. Это значит, что настоящая конверсия нового дизайна очень близка к конверсии старого дизайна и плиточный вид не будет улучшением старого дизайна раздела Автозапчасти на Фарпосте. Эффекта не будет! "
   ]
  },
  {
   "cell_type": "code",
   "execution_count": null,
   "id": "963ab741-4719-4c95-8e5b-7dbf84174d1a",
   "metadata": {},
   "outputs": [],
   "source": []
  }
 ],
 "metadata": {
  "kernelspec": {
   "display_name": "Python 3 (ipykernel)",
   "language": "python",
   "name": "python3"
  },
  "language_info": {
   "codemirror_mode": {
    "name": "ipython",
    "version": 3
   },
   "file_extension": ".py",
   "mimetype": "text/x-python",
   "name": "python",
   "nbconvert_exporter": "python",
   "pygments_lexer": "ipython3",
   "version": "3.11.7"
  }
 },
 "nbformat": 4,
 "nbformat_minor": 5
}
